{
 "cells": [
  {
   "cell_type": "markdown",
   "id": "varying-bookmark",
   "metadata": {},
   "source": [
    "### Question 1:"
   ]
  },
  {
   "cell_type": "raw",
   "id": "collective-expense",
   "metadata": {},
   "source": [
    "Given the following jumbled word, OBANWRI guess the correct English word.\n",
    "\n",
    "A. RANIBOW\n",
    "B. RAINBOW\n",
    "C. BOWRANI\n",
    "D. ROBWANI"
   ]
  },
  {
   "cell_type": "markdown",
   "id": "absolute-concentrate",
   "metadata": {},
   "source": [
    "### Answer:\n",
    "\n",
    "B. RAINBOW"
   ]
  },
  {
   "cell_type": "markdown",
   "id": "human-charge",
   "metadata": {},
   "source": [
    "### Question 2:\n",
    "Write a program that prints “LETS UPGRADE”. (Please note that you have to print in ALL CAPS\n",
    "as given)"
   ]
  },
  {
   "cell_type": "code",
   "execution_count": 1,
   "id": "literary-ranch",
   "metadata": {},
   "outputs": [
    {
     "name": "stdout",
     "output_type": "stream",
     "text": [
      "LETS UPGRADE\n"
     ]
    }
   ],
   "source": [
    "string = 'LETS UPGRADE'\n",
    "\n",
    "print(string)"
   ]
  },
  {
   "cell_type": "markdown",
   "id": "human-coverage",
   "metadata": {},
   "source": [
    "### Question 3:\n",
    "\n",
    "Write a program that takes cost price and selling price as input and\n",
    "displays whether the transaction is a Profit or a Loss or Neither."
   ]
  },
  {
   "cell_type": "code",
   "execution_count": 7,
   "id": "covered-proxy",
   "metadata": {},
   "outputs": [
    {
     "name": "stdout",
     "output_type": "stream",
     "text": [
      "20\n",
      "30\n",
      "Profit\n"
     ]
    }
   ],
   "source": [
    "cost_price = int(input())\n",
    "sell_price = int(input())\n",
    "\n",
    "if cost_price > sell_price:\n",
    "    print('Loss')\n",
    "\n",
    "elif cost_price < sell_price:\n",
    "    print('Profit')\n",
    "    \n",
    "else:\n",
    "    print('Neither')"
   ]
  },
  {
   "cell_type": "markdown",
   "id": "spare-dealer",
   "metadata": {},
   "source": [
    "### Question 4:\n",
    "Write a program that takes an amount in Euros as input. You need to find its equivalent in\n",
    "Rupees and display it. Assume 1 Euro equals Rs. 80."
   ]
  },
  {
   "cell_type": "code",
   "execution_count": 8,
   "id": "communist-musician",
   "metadata": {},
   "outputs": [
    {
     "name": "stdout",
     "output_type": "stream",
     "text": [
      "20\n",
      "1600.0\n"
     ]
    }
   ],
   "source": [
    "amt_in_euro = float(input())\n",
    "amt_in_inr = amt_in_euro * 80\n",
    "print(amt_in_inr)"
   ]
  },
  {
   "cell_type": "markdown",
   "id": "fancy-disease",
   "metadata": {},
   "source": [
    "### Question 5:\n",
    "Create an empty list. Accept 10 numbers from the user and append to it the list if it is an even\n",
    "number."
   ]
  },
  {
   "cell_type": "code",
   "execution_count": 16,
   "id": "nominated-minute",
   "metadata": {},
   "outputs": [
    {
     "name": "stdout",
     "output_type": "stream",
     "text": [
      "12\n",
      "34\n",
      "145\n",
      "78\n",
      "09\n",
      "67\n",
      "56\n",
      "45\n",
      "87\n",
      "89\n",
      "[12, 34, 78, 56]\n"
     ]
    }
   ],
   "source": [
    "ls = []\n",
    "\n",
    "for i in range(10):\n",
    "    i = int(input())\n",
    "    if i%2 == 0: # checking th even num conditon\n",
    "        ls.append(i) # appending i \n",
    "    \n",
    "print(ls)\n",
    "\n",
    "\n"
   ]
  },
  {
   "cell_type": "markdown",
   "id": "revolutionary-billy",
   "metadata": {},
   "source": [
    "### Question 6:\n",
    "Create a notebook on LIST COMPREHENSION. This exercise is to put you in a\n",
    "Self-learning mode"
   ]
  },
  {
   "cell_type": "code",
   "execution_count": 21,
   "id": "covered-center",
   "metadata": {},
   "outputs": [
    {
     "name": "stdout",
     "output_type": "stream",
     "text": [
      "[0, 2, 4, 6, 8, 10, 12, 14, 16, 18, 20, 22, 24, 26, 28, 30, 32, 34, 36, 38, 40, 42, 44, 46, 48]\n"
     ]
    }
   ],
   "source": [
    "# even number from 0 to 50\n",
    "\n",
    "even = [ x for x in range(50) if x % 2 == 0 ]\n",
    "\n",
    "print(list(even))"
   ]
  },
  {
   "cell_type": "code",
   "execution_count": 24,
   "id": "scenic-gateway",
   "metadata": {},
   "outputs": [
    {
     "name": "stdout",
     "output_type": "stream",
     "text": [
      "[1, 4, 9, 16, 25, 36, 49, 64, 81, 100]\n"
     ]
    }
   ],
   "source": [
    "# square of number from 1 to 11\n",
    "\n",
    "square = [ i**2 for i in range(1, 11)]\n",
    "\n",
    "print(list(square))"
   ]
  },
  {
   "cell_type": "code",
   "execution_count": 26,
   "id": "moving-popularity",
   "metadata": {},
   "outputs": [
    {
     "name": "stdout",
     "output_type": "stream",
     "text": [
      "[0, 6, 12, 18, 24, 30, 36, 42, 48, 54, 60, 66, 72, 78, 84, 90, 96]\n"
     ]
    }
   ],
   "source": [
    "# number divisible by 2 and 3\n",
    "\n",
    "nums = [ i for i in range(100) if i % 2 == 0 and i % 3 == 0 ]\n",
    "\n",
    "print(nums)"
   ]
  },
  {
   "cell_type": "code",
   "execution_count": 28,
   "id": "incoming-support",
   "metadata": {},
   "outputs": [
    {
     "name": "stdout",
     "output_type": "stream",
     "text": [
      "['EVEN', 'ODD', 'EVEN', 'ODD', 'EVEN', 'ODD', 'EVEN', 'ODD', 'EVEN', 'ODD']\n"
     ]
    }
   ],
   "source": [
    "# printing even or odd\n",
    "\n",
    "list = [ 'EVEN' if i % 2 == 0 else 'ODD' for i in range(10)]\n",
    "\n",
    "print(list)"
   ]
  },
  {
   "cell_type": "markdown",
   "id": "turkish-cuisine",
   "metadata": {},
   "source": [
    "### Question 7:\n",
    "You have seen in the videos how powerful dictionary data structure is.\n",
    "In this assignment, given a number n, you have to write a program that generates a dictionary\n",
    "d which contains (i, i*i), where i is from 1 to n (both included).\n",
    "Then you have to just print this dictionary d."
   ]
  },
  {
   "cell_type": "code",
   "execution_count": 33,
   "id": "noticed-omaha",
   "metadata": {},
   "outputs": [
    {
     "name": "stdout",
     "output_type": "stream",
     "text": [
      "6\n",
      "{1: 1, 2: 4, 3: 9, 4: 16, 5: 25, 6: 36}\n"
     ]
    }
   ],
   "source": [
    "n = int(input())\n",
    "dict = {}\n",
    "\n",
    "for i in range(1, n+1):\n",
    "    dict[i] = i*i\n",
    "    \n",
    "print(dict)\n",
    "\n"
   ]
  },
  {
   "cell_type": "markdown",
   "id": "sudden-library",
   "metadata": {},
   "source": [
    "### Questions 8:\n",
    "\n",
    "There is a robot that wants to go to the charging point to charge itself.\n",
    "The robot moves in a 2-D plane from the original point (0,0). The robot can\n",
    "move toward UP, DOWN, LEFT, and RIGHT with given steps.\n",
    "The trace of robot movement is shown as the following:\n",
    "UP 5\n",
    "DOWN 3\n",
    "LEFT 3\n",
    "RIGHT 2"
   ]
  },
  {
   "cell_type": "code",
   "execution_count": 34,
   "id": "packed-emission",
   "metadata": {},
   "outputs": [
    {
     "name": "stdout",
     "output_type": "stream",
     "text": [
      "5\n",
      "3\n",
      "3\n",
      "2\n",
      "2 from [0,0] to [-1, 2]\n"
     ]
    }
   ],
   "source": [
    "\n",
    "import math\n",
    "#Init vars\n",
    "pos=[0,0]\n",
    "moves={\"UP\":[0,1],\n",
    "       \"DOWN\":[0,-1],\n",
    "       \"LEFT\":[-1,0],\n",
    "       \"RIGHT\":[1,0]}\n",
    "\n",
    "#Set inputs\n",
    "UP = int(input())\n",
    "DOWN = int(input())\n",
    "LEFT = int(input())\n",
    "RIGHT = int(input())\n",
    "data = [\"UP 5\",\n",
    "    \"DOWN 3\",\n",
    "    \"LEFT 3\",\n",
    "    \"RIGHT 2\"]\n",
    "\n",
    "#Move robot on valid moves\n",
    "for inp in data:\n",
    "    parts=inp.split()    \n",
    "    mv=parts[0]\n",
    "    val=parts[1]\n",
    "    if mv in moves and val.isnumeric():\n",
    "        pos[0] = pos[0]+ moves[mv][0]*int(val)\n",
    "        pos[1] = pos[1]+ moves[mv][1]*int(val)\n",
    "\n",
    "#get distance     \n",
    "distance=math.sqrt(pos[0]**2 + pos[1]**2)\n",
    "print(round(distance), \"from [0,0] to\",pos)"
   ]
  },
  {
   "cell_type": "markdown",
   "id": "imperial-while",
   "metadata": {},
   "source": [
    "### Questions 9:\n",
    "Create a NumPy array starting from 2 till 50 with a step size of 3."
   ]
  },
  {
   "cell_type": "code",
   "execution_count": 2,
   "id": "engaged-wallpaper",
   "metadata": {},
   "outputs": [
    {
     "name": "stdout",
     "output_type": "stream",
     "text": [
      "[ 2  5  8 11 14 17 20 23 26 29 32 35 38 41 44 47]\n"
     ]
    }
   ],
   "source": [
    "import numpy as np\n",
    "\n",
    "arr = np.arange(2, 50, 3)\n",
    "\n",
    "print(arr)"
   ]
  },
  {
   "cell_type": "markdown",
   "id": "least-excerpt",
   "metadata": {},
   "source": [
    "### Questions 10:\n",
    "Accept two lists of 5 elements each from the user.\n",
    "Convert them to NumPy arrays. Concatenate these arrays and print them. Also, sort these arrays\n",
    "and print them."
   ]
  },
  {
   "cell_type": "code",
   "execution_count": 41,
   "id": "intermediate-squad",
   "metadata": {},
   "outputs": [
    {
     "name": "stdout",
     "output_type": "stream",
     "text": [
      "LIST 1\n",
      "12\n",
      "32\n",
      "45\n",
      "67\n",
      "89\n",
      "LIST 2\n",
      "12\n",
      "34\n",
      "56\n",
      "87\n",
      "90\n",
      "[12, 32, 45, 67, 89] \n",
      " [12, 34, 56, 87, 90]\n"
     ]
    }
   ],
   "source": [
    "list1, list2 = [], []\n",
    "\n",
    "print('LIST 1')\n",
    "for i in range(5):\n",
    "    i = int(input())\n",
    "    list1.append(i)\n",
    "\n",
    "print('LIST 2')\n",
    "for j in range(5):\n",
    "    j = int(input())\n",
    "    list2.append(j)\n",
    "    \n",
    "print(list1)\n",
    "print(list2)"
   ]
  },
  {
   "cell_type": "code",
   "execution_count": 44,
   "id": "logical-option",
   "metadata": {},
   "outputs": [],
   "source": [
    "# array conversion\n",
    "\n",
    "list1 = np.array(list1)\n",
    "list2 = np.array(list2)"
   ]
  },
  {
   "cell_type": "code",
   "execution_count": 54,
   "id": "naughty-herald",
   "metadata": {},
   "outputs": [
    {
     "name": "stdout",
     "output_type": "stream",
     "text": [
      "[12 32 45 67 89 12 34 56 87 90]\n"
     ]
    }
   ],
   "source": [
    "# concatenated array\n",
    "\n",
    "concat_arr = np.concatenate((list1, list2), axis=0)\n",
    "\n",
    "print(concat_arr)"
   ]
  },
  {
   "cell_type": "code",
   "execution_count": 57,
   "id": "limiting-funeral",
   "metadata": {},
   "outputs": [
    {
     "name": "stdout",
     "output_type": "stream",
     "text": [
      "[12 12 32 34 45 56 67 87 89 90]\n"
     ]
    }
   ],
   "source": [
    "# sorted array\n",
    "\n",
    "sort_arr = np.sort(concat_arr)\n",
    "\n",
    "print(sort_arr)"
   ]
  },
  {
   "cell_type": "markdown",
   "id": "athletic-briefs",
   "metadata": {},
   "source": [
    "### Questions 11:\n",
    "Write a code snippet to find the dimensions of a ndarray and its size."
   ]
  },
  {
   "cell_type": "code",
   "execution_count": 3,
   "id": "chicken-workstation",
   "metadata": {},
   "outputs": [
    {
     "name": "stdout",
     "output_type": "stream",
     "text": [
      "[[ 0  1  2]\n",
      " [ 3  4  5]\n",
      " [ 6  7  8]\n",
      " [ 9 10 11]]\n"
     ]
    }
   ],
   "source": [
    "arr = np.arange(12).reshape(4,3)\n",
    "\n",
    "print(arr)"
   ]
  },
  {
   "cell_type": "code",
   "execution_count": 5,
   "id": "greatest-booth",
   "metadata": {},
   "outputs": [
    {
     "data": {
      "text/plain": [
       "2"
      ]
     },
     "execution_count": 5,
     "metadata": {},
     "output_type": "execute_result"
    }
   ],
   "source": [
    "arr.ndim"
   ]
  },
  {
   "cell_type": "code",
   "execution_count": 8,
   "id": "cardiovascular-insertion",
   "metadata": {},
   "outputs": [
    {
     "data": {
      "text/plain": [
       "12"
      ]
     },
     "execution_count": 8,
     "metadata": {},
     "output_type": "execute_result"
    }
   ],
   "source": [
    "arr.size"
   ]
  },
  {
   "cell_type": "markdown",
   "id": "productive-ending",
   "metadata": {},
   "source": [
    "### Questions 12:\n",
    "How to convert a 1D array into a 2D array? Demonstrate with the help of a code snippet\n",
    "Hint: np.newaxis, np.expand_dims"
   ]
  },
  {
   "cell_type": "code",
   "execution_count": 16,
   "id": "atomic-relief",
   "metadata": {},
   "outputs": [
    {
     "data": {
      "text/plain": [
       "array([0, 1, 2, 3, 4, 5, 6, 7, 8])"
      ]
     },
     "execution_count": 16,
     "metadata": {},
     "output_type": "execute_result"
    }
   ],
   "source": [
    "arr = np.arange(9)\n",
    "\n",
    "arr"
   ]
  },
  {
   "cell_type": "code",
   "execution_count": 17,
   "id": "serious-rouge",
   "metadata": {},
   "outputs": [],
   "source": [
    "arr1 = arr[np.newaxis,:] # new axis"
   ]
  },
  {
   "cell_type": "code",
   "execution_count": 18,
   "id": "white-night",
   "metadata": {},
   "outputs": [
    {
     "data": {
      "text/plain": [
       "array([0, 1, 2, 3, 4, 5, 6, 7, 8])"
      ]
     },
     "execution_count": 18,
     "metadata": {},
     "output_type": "execute_result"
    }
   ],
   "source": [
    "arr"
   ]
  },
  {
   "cell_type": "code",
   "execution_count": 19,
   "id": "empty-fever",
   "metadata": {},
   "outputs": [
    {
     "data": {
      "text/plain": [
       "array([[0],\n",
       "       [1],\n",
       "       [2],\n",
       "       [3],\n",
       "       [4],\n",
       "       [5],\n",
       "       [6],\n",
       "       [7],\n",
       "       [8]])"
      ]
     },
     "execution_count": 19,
     "metadata": {},
     "output_type": "execute_result"
    }
   ],
   "source": [
    "arr2 = np.expand_dims(arr, axis = 1)\n",
    "\n",
    "arr2"
   ]
  },
  {
   "cell_type": "markdown",
   "id": "practical-thread",
   "metadata": {},
   "source": [
    "### Questions 13:\n",
    "Consider two square NumPy arrays. Stack them vertically and horizontally.\n",
    "Hint: Use vstack(), hstack()"
   ]
  },
  {
   "cell_type": "code",
   "execution_count": 20,
   "id": "personalized-words",
   "metadata": {},
   "outputs": [
    {
     "name": "stdout",
     "output_type": "stream",
     "text": [
      "[0 1 2 3 4 5 6 7 8]\n",
      "[ 9 10 11 12 13 14 15 16 17]\n"
     ]
    }
   ],
   "source": [
    "arr1 = np.arange(9)\n",
    "\n",
    "arr2 = np.arange(9,18)\n",
    "\n",
    "print(arr1)\n",
    "print(arr2)"
   ]
  },
  {
   "cell_type": "code",
   "execution_count": 22,
   "id": "included-nurse",
   "metadata": {},
   "outputs": [
    {
     "data": {
      "text/plain": [
       "array([ 0,  1,  2,  3,  4,  5,  6,  7,  8,  9, 10, 11, 12, 13, 14, 15, 16,\n",
       "       17])"
      ]
     },
     "execution_count": 22,
     "metadata": {},
     "output_type": "execute_result"
    }
   ],
   "source": [
    "np.hstack((arr1,arr2)) # stacking horizontally"
   ]
  },
  {
   "cell_type": "code",
   "execution_count": 23,
   "id": "allied-integral",
   "metadata": {},
   "outputs": [
    {
     "data": {
      "text/plain": [
       "array([[ 0,  1,  2,  3,  4,  5,  6,  7,  8],\n",
       "       [ 9, 10, 11, 12, 13, 14, 15, 16, 17]])"
      ]
     },
     "execution_count": 23,
     "metadata": {},
     "output_type": "execute_result"
    }
   ],
   "source": [
    "np.vstack((arr1,arr2)) # stacking vertically"
   ]
  },
  {
   "cell_type": "markdown",
   "id": "original-westminster",
   "metadata": {},
   "source": [
    "### Questions 14:\n",
    "How to get unique items and counts of unique items?"
   ]
  },
  {
   "cell_type": "code",
   "execution_count": 24,
   "id": "expanded-facial",
   "metadata": {},
   "outputs": [
    {
     "name": "stdout",
     "output_type": "stream",
     "text": [
      "[10 20 10 35 55 20 35 90 10 55]\n",
      "\n"
     ]
    },
    {
     "data": {
      "text/plain": [
       "(array([10, 20, 35, 55, 90]), array([3, 2, 2, 2, 1], dtype=int64))"
      ]
     },
     "execution_count": 24,
     "metadata": {},
     "output_type": "execute_result"
    }
   ],
   "source": [
    "arr=np.array([10,20,10,35,55,20,35,90,10,55])\n",
    "print(arr)\n",
    "np.unique(arr)\n",
    "print()\n",
    "np.unique(arr,return_counts=True)"
   ]
  },
  {
   "cell_type": "code",
   "execution_count": null,
   "id": "personalized-invitation",
   "metadata": {},
   "outputs": [],
   "source": []
  }
 ],
 "metadata": {
  "kernelspec": {
   "display_name": "Python 3",
   "language": "python",
   "name": "python3"
  },
  "language_info": {
   "codemirror_mode": {
    "name": "ipython",
    "version": 3
   },
   "file_extension": ".py",
   "mimetype": "text/x-python",
   "name": "python",
   "nbconvert_exporter": "python",
   "pygments_lexer": "ipython3",
   "version": "3.8.3"
  }
 },
 "nbformat": 4,
 "nbformat_minor": 5
}
